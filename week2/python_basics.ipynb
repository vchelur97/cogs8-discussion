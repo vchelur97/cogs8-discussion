{
  "nbformat": 4,
  "nbformat_minor": 0,
  "metadata": {
    "colab": {
      "provenance": []
    },
    "kernelspec": {
      "name": "python3",
      "display_name": "Python 3"
    },
    "language_info": {
      "name": "python"
    }
  },
  "cells": [
    {
      "cell_type": "code",
      "execution_count": null,
      "metadata": {
        "id": "Qpv0StAtUYhN",
        "colab": {
          "base_uri": "https://localhost:8080/"
        },
        "outputId": "7013cbec-9eca-405a-b34c-b1967a7bc19e"
      },
      "outputs": [
        {
          "output_type": "stream",
          "name": "stdout",
          "text": [
            "Hello world!\n"
          ]
        }
      ],
      "source": [
        "print(\"Hello world!\") # Prints whatever you send it"
      ]
    },
    {
      "cell_type": "code",
      "source": [
        "# Different data types and variable assignments\n",
        "a = 10 # Integer\n",
        "b = 4.5 # Float\n",
        "c = \"hello\" # String\n",
        "d = [a, b, c] # List\n",
        "e = {\"integer\": a, \"float\": b, \"string\": c} # Map\n",
        "f = True # Boolean"
      ],
      "metadata": {
        "id": "qsC6VC7WUevS"
      },
      "execution_count": null,
      "outputs": []
    },
    {
      "cell_type": "code",
      "source": [
        "print(a)\n",
        "print(b)\n",
        "print(c)\n",
        "print(d)\n",
        "print(e)\n",
        "print(f)"
      ],
      "metadata": {
        "id": "go1GQ3kuVQ-M",
        "colab": {
          "base_uri": "https://localhost:8080/"
        },
        "outputId": "224df928-37d6-40c8-cd92-dfb0efecd5c0"
      },
      "execution_count": null,
      "outputs": [
        {
          "output_type": "stream",
          "name": "stdout",
          "text": [
            "10\n",
            "4.5\n",
            "hello\n",
            "[10, 4.5, 'hello']\n",
            "{'integer': 10, 'float': 4.5, 'string': 'hello'}\n",
            "True\n"
          ]
        }
      ]
    },
    {
      "cell_type": "code",
      "source": [
        "# List\n",
        "d[0] = f # d[0] accesses the 1st element in d\n",
        "print(d[0])\n",
        "print(d[1])\n",
        "print(d[2])\n",
        "print(d[-1], d[-2], d[-3])"
      ],
      "metadata": {
        "id": "SoOzSGo6U6q9",
        "colab": {
          "base_uri": "https://localhost:8080/"
        },
        "outputId": "c3956c63-57a7-40aa-913c-2821ad5347e1"
      },
      "execution_count": null,
      "outputs": [
        {
          "output_type": "stream",
          "name": "stdout",
          "text": [
            "True\n",
            "4.5\n",
            "hello\n",
            "hello 4.5 True\n"
          ]
        }
      ]
    },
    {
      "cell_type": "code",
      "source": [
        "# Basic math operations\n",
        "print(a < b)\n",
        "print(a + b)\n",
        "print(b - a)\n",
        "print(b * a)\n",
        "print(a / b)\n",
        "print(a // b)"
      ],
      "metadata": {
        "id": "a7IvPq_DVsyH",
        "colab": {
          "base_uri": "https://localhost:8080/"
        },
        "outputId": "fc8496d4-a0ea-4cd1-95b1-07b47e3f2ca7"
      },
      "execution_count": null,
      "outputs": [
        {
          "output_type": "stream",
          "name": "stdout",
          "text": [
            "False\n",
            "14.5\n",
            "-5.5\n",
            "45.0\n",
            "2.2222222222222223\n",
            "2.0\n"
          ]
        }
      ]
    },
    {
      "cell_type": "code",
      "source": [
        "# Conditional statements\n",
        "a = 10\n",
        "if a > b:\n",
        "    print(a, \"is greater than\", b)\n",
        "else:\n",
        "    print(a, \"is lesser than\", b)"
      ],
      "metadata": {
        "id": "VZGuXU71V9Nb",
        "colab": {
          "base_uri": "https://localhost:8080/"
        },
        "outputId": "0ebbf99a-0f8f-43d9-a3ac-ede53b2519b6"
      },
      "execution_count": null,
      "outputs": [
        {
          "output_type": "stream",
          "name": "stdout",
          "text": [
            "10 is greater than 4.5\n"
          ]
        }
      ]
    },
    {
      "cell_type": "code",
      "source": [
        "# Functions\n",
        "def compare_numbers(num1, num2):\n",
        "    if num1 > num2:\n",
        "        print(num1, \"is greater than\", num2)\n",
        "    elif num1 == num2:\n",
        "        print(num1, \"is equal to\", num2)\n",
        "    else:\n",
        "        print(num1, \"is lesser than\", num2)"
      ],
      "metadata": {
        "id": "8cmMOVzuWEDQ"
      },
      "execution_count": null,
      "outputs": []
    },
    {
      "cell_type": "code",
      "source": [
        "compare_numbers(a, b)"
      ],
      "metadata": {
        "id": "n_PsGqRTWi2m",
        "colab": {
          "base_uri": "https://localhost:8080/"
        },
        "outputId": "9905af46-f7b0-4339-a455-c38f490cf8f0"
      },
      "execution_count": null,
      "outputs": [
        {
          "output_type": "stream",
          "name": "stdout",
          "text": [
            "10 is greater than 4.5\n"
          ]
        }
      ]
    },
    {
      "cell_type": "code",
      "source": [
        "compare_numbers(4.0, 4)"
      ],
      "metadata": {
        "id": "uS4GFwF1WlAn",
        "colab": {
          "base_uri": "https://localhost:8080/"
        },
        "outputId": "178ec593-e6be-4c07-cd26-8f13b7f0c912"
      },
      "execution_count": null,
      "outputs": [
        {
          "output_type": "stream",
          "name": "stdout",
          "text": [
            "4.0 is equal to 4\n"
          ]
        }
      ]
    },
    {
      "cell_type": "code",
      "source": [
        "compare_numbers(3, 9)"
      ],
      "metadata": {
        "id": "2IEKFScHWpf8",
        "colab": {
          "base_uri": "https://localhost:8080/"
        },
        "outputId": "2f7855f5-c6e5-4fae-eda6-41c6b2951424"
      },
      "execution_count": null,
      "outputs": [
        {
          "output_type": "stream",
          "name": "stdout",
          "text": [
            "3 is lesser than 9\n"
          ]
        }
      ]
    },
    {
      "cell_type": "code",
      "source": [
        "# Looping over a range of numbers\n",
        "for i in range(1, 6):\n",
        "    print(i, end=',')"
      ],
      "metadata": {
        "id": "-N4rLxNBW7Ah",
        "colab": {
          "base_uri": "https://localhost:8080/"
        },
        "outputId": "c8562223-89eb-40af-f605-d6e808e8e4ef"
      },
      "execution_count": null,
      "outputs": [
        {
          "output_type": "stream",
          "name": "stdout",
          "text": [
            "1,2,3,4,5,"
          ]
        }
      ]
    },
    {
      "cell_type": "code",
      "source": [
        "# Looping over a list\n",
        "for element in d:\n",
        "    print(element)"
      ],
      "metadata": {
        "id": "KcGguApgXGh3"
      },
      "execution_count": null,
      "outputs": []
    },
    {
      "cell_type": "code",
      "source": [
        "for i in range(len(d)):\n",
        "    print(d[i])"
      ],
      "metadata": {
        "id": "mzHAGDiK98cj"
      },
      "execution_count": null,
      "outputs": []
    },
    {
      "cell_type": "code",
      "source": [
        "# Looping over a dictionary\n",
        "for key in e:\n",
        "    print(key, e[key])"
      ],
      "metadata": {
        "id": "n3AfW6n2XPNv"
      },
      "execution_count": null,
      "outputs": []
    },
    {
      "cell_type": "code",
      "source": [
        "# While loop -> while <condition is satisfied> do something\n",
        "i = 1\n",
        "while i < 6:\n",
        "    print(i)\n",
        "    i = i + 1"
      ],
      "metadata": {
        "colab": {
          "base_uri": "https://localhost:8080/"
        },
        "id": "7_65iYs2-3Oc",
        "outputId": "3b391ca6-bb78-4f26-8739-9c2cf9b54aa7"
      },
      "execution_count": null,
      "outputs": [
        {
          "output_type": "stream",
          "name": "stdout",
          "text": [
            "1\n",
            "2\n",
            "3\n",
            "4\n",
            "5\n"
          ]
        }
      ]
    },
    {
      "cell_type": "code",
      "source": [
        "# Import a module (code written by other people)\n",
        "import numpy as np"
      ],
      "metadata": {
        "id": "MPSHRvdSXWFH"
      },
      "execution_count": null,
      "outputs": []
    },
    {
      "cell_type": "code",
      "source": [
        "# Use the functions written inside the module\n",
        "h = np.array(d) # https://numpy.org/doc/stable/reference/generated/numpy.array.html\n",
        "h"
      ],
      "metadata": {
        "id": "bAxC6LrXXc9o"
      },
      "execution_count": null,
      "outputs": []
    },
    {
      "cell_type": "code",
      "source": [],
      "metadata": {
        "id": "ILuIpoBHXfmQ"
      },
      "execution_count": null,
      "outputs": []
    }
  ]
}